{
 "cells": [
  {
   "cell_type": "code",
   "execution_count": 1,
   "metadata": {
    "scrolled": true
   },
   "outputs": [],
   "source": [
    "from __future__ import division\n",
    "import csv\n",
    "import numpy as np\n",
    "import pandas as pd\n",
    "import math\n",
    "from scipy.optimize import bisect\n",
    "import matplotlib.pyplot as plt\n",
    "import pylab as pl\n",
    "import os\n",
    "get_ipython().magic(u'matplotlib inline')"
   ]
  },
  {
   "cell_type": "code",
   "execution_count": 8,
   "metadata": {},
   "outputs": [],
   "source": [
    "from utils.Parameters import *\n",
    "from utils.functions import *\n",
    "from utils.LCA_assesment_model_centralized import LCA_assesment_model_centralized"
   ]
  },
  {
   "cell_type": "code",
   "execution_count": 10,
   "metadata": {
    "scrolled": true
   },
   "outputs": [],
   "source": [
    "grid_data=pd.read_csv('data/results_GIS_SF_3.csv')\n",
    "grid_data=grid_data[grid_data.pop_density_current != 0]\n",
    "scenario = 'branched'\n",
    "status = 'current'"
   ]
  },
  {
   "cell_type": "code",
   "execution_count": 11,
   "metadata": {},
   "outputs": [],
   "source": [
    "process_energy_results = pd.DataFrame()\n",
    "process_GHG_results = pd.DataFrame()\n",
    "total_energy_results = pd.DataFrame()\n",
    "total_GHG_results = pd.DataFrame()\n",
    "\n",
    "for index, row in grid_data.iterrows():\n",
    "    grid_ID = int(row.grid_ID)\n",
    "    slope_index_grid = float(row.slope_index)\n",
    "    length_centralized_m = float(row.length_m)\n",
    "    z_max_route = float(row.Head_central_elevation)\n",
    "    pop_density = float(row.pop_density_current)\n",
    "    collection_energy = float(row.collection_MJ_m3)\n",
    "    length_centralized_const = float(row.actual_length)\n",
    "\n",
    "    for people in people_range:\n",
    "        process_energy, process_GHG, total_energy, total_GHG = LCA_assesment_model_centralized(people, scenario, status, grid_ID, slope_index_grid, length_centralized_m, z_max_route, pop_density, collection_energy, length_centralized_const)\n",
    "        process_energy_results = process_energy_results.append(process_energy)\n",
    "        process_GHG_results = process_GHG_results.append(process_GHG)\n",
    "        total_energy_results = total_energy_results.append(total_energy)\n",
    "        total_GHG_results = total_GHG_results.append(total_GHG)\n",
    "\n",
    "process_energy_results.columns=['People','grid_ID', 'Pipe construction', 'Pipe operation', \n",
    "                              'Pump construction', 'Pump operation', 'Tank construction', \n",
    "                                    'Collection pumping', 'Secondary treatment operation', 'Secondary treatment construction',\n",
    "                                    'Tertiary treatment operation', 'RO construction',\n",
    "                                    'UV operation', 'UV construction', 'Chlorine manufacturing',\n",
    "                                    'Chlorine tank manufacturing', 'Sludge transport']\n",
    "\n",
    "process_GHG_results.columns=['People','grid_ID', 'Pipe construction', 'Pipe operation', \n",
    "                              'Pump construction', 'Pump operation', 'Tank construction', \n",
    "                                    'Collection pumping', 'Secondary treatment operation', 'Secondary treatment construction',\n",
    "                                    'Tertiary treatment operation', 'RO construction',\n",
    "                                    'UV operation', 'UV construction', 'Chlorine manufacturing',\n",
    "                                    'Chlorine tank manufacturing', 'Sludge transport', 'landfill emissions']\n",
    "\n",
    "total_energy_results.columns=['People','grid_ID', 'Total Energy']\n",
    "total_GHG_results.columns=['People','grid_ID', 'Total GHG']"
   ]
  },
  {
   "cell_type": "code",
   "execution_count": 15,
   "metadata": {},
   "outputs": [],
   "source": [
    "if not os.path.exists('result_csv'):\n",
    "    os.makedirs('result_csv')"
   ]
  },
  {
   "cell_type": "code",
   "execution_count": 16,
   "metadata": {},
   "outputs": [],
   "source": [
    "total_energy_results.to_csv('result_csv/Centralized_total_energy_%s_npr_SF.csv'%scenario)\n",
    "total_GHG_results.to_csv('result_csv/Centralized_total_GHG_%s_npr_SF.csv'%scenario)\n",
    "process_energy_results.to_csv('result_csv/Centralized_process_energy_%s_npr_SF.csv'%scenario)\n",
    "process_GHG_results.to_csv('result_csv/Centralized_process_GHG_%s_npr_SF.csv'%scenario)"
   ]
  },
  {
   "cell_type": "code",
   "execution_count": 9,
   "metadata": {},
   "outputs": [],
   "source": [
    "total_energy_results= pd.read_csv('result_csv/Centralized_total_energy_%s_npr_SF.csv'%scenario)\n",
    "total_GHG_results= pd.read_csv('result_csv/Centralized_total_GHG_%s_npr_SF.csv'%scenario)\n",
    "process_energy_results= pd.read_csv('result_csv/Centralized_process_energy_%s_npr_SF.csv'%scenario)\n",
    "process_GHG_results= pd.read_csv('result_csv/Centralized_process_GHG_%s_npr_SF.csv'%scenario)"
   ]
  },
  {
   "cell_type": "code",
   "execution_count": 7,
   "metadata": {},
   "outputs": [],
   "source": [
    "total_energy_decentralized = pd.read_csv('result_csv/Decentralized_total_energy_npr_SF_%s.csv'%status)\n",
    "total_GHG_decentralized = pd.read_csv('result_csv/Decentralized_total_GHG_npr_SF_%s.csv'%status)"
   ]
  },
  {
   "cell_type": "code",
   "execution_count": 6,
   "metadata": {
    "scrolled": true
   },
   "outputs": [
    {
     "data": {
      "image/png": "[encoded data removed]",
      "text/plain": [
       "<matplotlib.figure.Figure at 0x75de545240>"
      ]
     },
     "metadata": {},
     "output_type": "display_data"
    }
   ],
   "source": [
    "total_energy_decentralized_1=total_energy_decentralized[(total_energy_decentralized['grid_ID']==149)]\n",
    "total_energy_1=total_energy_results[(total_energy_results['grid_ID']==149)]\n",
    "fig = plt.figure(figsize=(12, 6))\n",
    "ax = fig.add_subplot(1,3,1)\n",
    "plt.title('Unit Energy',fontsize=14)\n",
    "a=plt.plot(total_energy_decentralized_1['People'],total_energy_decentralized_1['Total Energy'],'-r',label = 'decentralized')\n",
    "b=plt.plot(total_energy_1['People'],total_energy_1['Total Energy'],'-b',label = 'centralized')\n",
    "legend = plt.legend(frameon = 1, fontsize=11,loc='best')\n",
    "plt.ylabel('Unit Energy (kWh/m3)',fontsize=12)\n",
    "plt.xlabel('Number of People',fontsize=12)\n",
    "plt.xticks(fontsize=11)\n",
    "plt.yticks(fontsize=11)\n",
    "ax.yaxis.grid(color='gray', linestyle=':')\n",
    "ax.xaxis.grid(color='gray', linestyle=':')"
   ]
  },
  {
   "cell_type": "code",
   "execution_count": 7,
   "metadata": {},
   "outputs": [],
   "source": [
    "grid_ID_decentral_energy = group_in_cluster(total_energy_decentralized,'grid_ID')\n",
    "grid_ID_central_energy = group_in_cluster(total_energy_results,'grid_ID')\n",
    "unique_grid_ID = total_energy_decentralized['grid_ID'].unique()\n",
    "grid_ID_decentral_GHG = group_in_cluster(total_GHG_decentralized,'grid_ID')\n",
    "grid_ID_central_GHG = group_in_cluster(total_GHG_results,'grid_ID')"
   ]
  },
  {
   "cell_type": "code",
   "execution_count": 8,
   "metadata": {},
   "outputs": [],
   "source": [
    "min_people_energy = interpolate(unique_grid_ID, grid_ID_decentral_energy, grid_ID_central_energy, 'Total Energy')\n",
    "min_people_GHG = interpolate(unique_grid_ID, grid_ID_decentral_GHG, grid_ID_central_GHG, 'Total GHG')"
   ]
  },
  {
   "cell_type": "code",
   "execution_count": 9,
   "metadata": {},
   "outputs": [],
   "source": [
    "min_people_energy.to_csv('result_csv/min_people_energy_%s_npr_SF_%s.csv'%(scenario,status))\n",
    "min_people_GHG.to_csv('result_csv/min_people_GHG_%s_npr_SF_%s.csv'%(scenario,status))"
   ]
  },
  {
   "cell_type": "code",
   "execution_count": null,
   "metadata": {
    "collapsed": true
   },
   "outputs": [],
   "source": []
  },
  {
   "cell_type": "code",
   "execution_count": null,
   "metadata": {
    "collapsed": true
   },
   "outputs": [],
   "source": []
  }
 ],
 "metadata": {
  "anaconda-cloud": {},
  "kernelspec": {
   "display_name": "Python 2",
   "language": "python",
   "name": "python2"
  },
  "language_info": {
   "codemirror_mode": {
    "name": "ipython",
    "version": 2
   },
   "file_extension": ".py",
   "mimetype": "text/x-python",
   "name": "python",
   "nbconvert_exporter": "python",
   "pygments_lexer": "ipython2",
   "version": "2.7.14"
  }
 },
 "nbformat": 4,
 "nbformat_minor": 1
}
