{
 "cells": [
  {
   "cell_type": "code",
   "execution_count": 3,
   "metadata": {
    "scrolled": true
   },
   "outputs": [],
   "source": [
    "from __future__ import division\n",
    "import csv\n",
    "import numpy as np\n",
    "import pandas as pd\n",
    "import math\n",
    "import os\n",
    "get_ipython().magic(u'matplotlib inline')"
   ]
  },
  {
   "cell_type": "code",
   "execution_count": 2,
   "metadata": {},
   "outputs": [],
   "source": [
    "from utils.Parameters import *\n",
    "from utils.functions import *\n",
    "from utils.LCA_assesment_model_decentralized import LCA_assesment_model_decentralized"
   ]
  },
  {
   "cell_type": "code",
   "execution_count": 3,
   "metadata": {
    "scrolled": true
   },
   "outputs": [],
   "source": [
    "grid_data=pd.read_csv('data/results_GIS_SF_3.csv')\n",
    "grid_data=grid_data[grid_data.pop_density_current != 0]\n",
    "scenario = 'branched'\n",
    "status = 'current'"
   ]
  },
  {
   "cell_type": "code",
   "execution_count": 4,
   "metadata": {},
   "outputs": [],
   "source": [
    "process_energy_results = pd.DataFrame()\n",
    "process_GHG_results = pd.DataFrame()\n",
    "total_energy_results = pd.DataFrame()\n",
    "total_GHG_results = pd.DataFrame()\n",
    "\n",
    "for index, row in grid_data.iterrows():\n",
    "    grid_ID = int(row.grid_ID)\n",
    "    slope_index_grid = float(row.slope_index)\n",
    "    length_centralized_m = float(row.length_m)\n",
    "    z_max_route = float(row.Z_MAX_route)\n",
    "    pop_density = float(row.pop_density_current)\n",
    "    collection_energy = float(row.collection_MJ_m3)\n",
    "    length_centralized_const = float(row.actual_length)\n",
    "\n",
    "    for people in people_range:\n",
    "        process_energy, process_GHG, total_energy, total_GHG = LCA_assesment_model_decentralized(people, grid_ID, status, slope_index_grid, length_centralized_m, z_max_route, pop_density, collection_energy, length_centralized_const)\n",
    "        process_energy_results = process_energy_results.append(process_energy)\n",
    "        process_GHG_results = process_GHG_results.append(process_GHG)\n",
    "        total_energy_results = total_energy_results.append(total_energy)\n",
    "        total_GHG_results = total_GHG_results.append(total_GHG)\n",
    "\n",
    "process_energy_results.columns=['People','grid_ID', 'Pipe construction', 'Pipe operation', \n",
    "                              'Pump construction', 'Pump operation', 'Tank construction', \n",
    "                                    'Bar Screen construction', 'Grinder construction',\n",
    "                                    'Grit chamber constuction', 'Equilization construction',\n",
    "                                    'Chlorine manufacturing', 'Chlorine operation', 'MBR constuction',\n",
    "                                'MBR operation', 'UV operation', 'UV construction',\n",
    "                                    'Sludge transport']\n",
    "\n",
    "process_GHG_results.columns=['People','grid_ID', 'Pipe construction', 'Pipe operation', \n",
    "                              'Pump construction', 'Pump operation', 'Tank construction', \n",
    "                                    'Bar Screen construction', 'Grinder construction',\n",
    "                                    'Grit chamber constuction', 'Equilization construction',\n",
    "                                    'Chlorine manufacturing', 'Chlorine operation', 'MBR constuction',\n",
    "                                'MBR operation', 'UV operation', 'UV construction',\n",
    "                                    'Sludge transport', 'landfill emissions']\n",
    "\n",
    "total_energy_results.columns=['People','grid_ID', 'Total Energy']\n",
    "total_GHG_results.columns=['People','grid_ID', 'Total GHG']"
   ]
  },
  {
   "cell_type": "code",
   "execution_count": null,
   "metadata": {
    "collapsed": true
   },
   "outputs": [],
   "source": [
    "if not os.path.exists('result_csv'):\n",
    "    os.makedirs('result_csv')"
   ]
  },
  {
   "cell_type": "code",
   "execution_count": 5,
   "metadata": {},
   "outputs": [],
   "source": [
    "total_energy_results.to_csv('result_csv/Decentralized_total_energy_npr_SF_%s.csv'%status)\n",
    "total_GHG_results.to_csv('result_csv/Decentralized_total_GHG_npr_SF_%s.csv'%status)\n",
    "process_energy_results.to_csv('result_csv/Decentralized_process_energy_npr_SF_%s.csv'%status)\n",
    "process_GHG_results.to_csv('result_csv/Decentralized_process_GHG_npr_SF_%s.csv'%status)"
   ]
  },
  {
   "cell_type": "code",
   "execution_count": null,
   "metadata": {
    "collapsed": true
   },
   "outputs": [],
   "source": []
  },
  {
   "cell_type": "code",
   "execution_count": null,
   "metadata": {
    "collapsed": true
   },
   "outputs": [],
   "source": []
  }
 ],
 "metadata": {
  "anaconda-cloud": {},
  "kernelspec": {
   "display_name": "Python 2",
   "language": "python",
   "name": "python2"
  },
  "language_info": {
   "codemirror_mode": {
    "name": "ipython",
    "version": 2
   },
   "file_extension": ".py",
   "mimetype": "text/x-python",
   "name": "python",
   "nbconvert_exporter": "python",
   "pygments_lexer": "ipython2",
   "version": "2.7.14"
  }
 },
 "nbformat": 4,
 "nbformat_minor": 1
}
